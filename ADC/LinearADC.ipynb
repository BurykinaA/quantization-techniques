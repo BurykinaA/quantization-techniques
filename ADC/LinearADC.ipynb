{
  "cells": [
    {
      "cell_type": "code",
      "execution_count": 1,
      "metadata": {},
      "outputs": [],
      "source": [
        "%load_ext autoreload\n",
        "%autoreload 2\n"
      ]
    },
    {
      "cell_type": "code",
      "execution_count": null,
      "metadata": {
        "id": "GNKewUEuvS3Y"
      },
      "outputs": [],
      "source": [
        "import torch\n",
        "\n",
        "class FloorSTE(torch.autograd.Function):\n",
        "    @staticmethod\n",
        "    def forward(ctx, x):\n",
        "        return torch.floor(x)\n",
        "\n",
        "    @staticmethod\n",
        "    def backward(ctx, grad_output):\n",
        "        # Straight-through: just pass gradient through\n",
        "        return grad_output\n",
        "\n",
        "def ste_floor(x):\n",
        "    return FloorSTE.apply(x)\n",
        "\n",
        "\n",
        "class RoundSTE(torch.autograd.Function):\n",
        "    @staticmethod\n",
        "    def forward(ctx, x):\n",
        "        return torch.round(x)\n",
        "\n",
        "    @staticmethod\n",
        "    def backward(ctx, grad_output):\n",
        "        # Straight-through: just pass gradient through\n",
        "        return grad_output\n",
        "\n",
        "def ste_round(x):\n",
        "    return RoundSTE.apply(x)"
      ]
    },
    {
      "cell_type": "code",
      "execution_count": null,
      "metadata": {
        "colab": {
          "base_uri": "https://localhost:8080/"
        },
        "id": "zm22JrqavT_w",
        "outputId": "c487a0d7-a217-4cfe-c9c2-dceeb99f4c73"
      },
      "outputs": [
        {
          "data": {
            "text/plain": [
              "tensor([1., 2., 3.])"
            ]
          },
          "execution_count": 2,
          "metadata": {},
          "output_type": "execute_result"
        }
      ],
      "source": [
        "# Test for ste_floor\n",
        "\n",
        "x0 = torch.tensor([1.5, 2.6, 3.7], requires_grad=True)\n",
        "const = torch.tensor([1., 2., 3.], requires_grad=False)\n",
        "x1 = ste_floor(x0)\n",
        "\n",
        "S = (x0 * const).sum()\n",
        "S.backward()\n",
        "x0.grad"
      ]
    },
    {
      "cell_type": "code",
      "execution_count": null,
      "metadata": {
        "colab": {
          "base_uri": "https://localhost:8080/"
        },
        "id": "Fb5IlOfzU98-",
        "outputId": "e42b009d-9bc6-4255-e0ac-8bb8ecfde1e9"
      },
      "outputs": [
        {
          "data": {
            "text/plain": [
              "tensor([1., 2., 3.])"
            ]
          },
          "execution_count": 3,
          "metadata": {},
          "output_type": "execute_result"
        }
      ],
      "source": [
        "# Test for ste_round\n",
        "\n",
        "x0 = torch.tensor([1.4, 2.6, 3.7], requires_grad=True)\n",
        "const = torch.tensor([1., 2., 3.], requires_grad=False)\n",
        "x1 = ste_round(x0)\n",
        "\n",
        "S = (x0 * const).sum()\n",
        "S.backward()\n",
        "x0.grad"
      ]
    },
    {
      "cell_type": "code",
      "execution_count": null,
      "metadata": {
        "id": "a_vRu1KnFnaY"
      },
      "outputs": [],
      "source": [
        "import torch\n",
        "from torch.ao.quantization.observer import MinMaxObserver\n",
        "from torch import nn\n",
        "\n",
        "\n",
        "class AffineQuantizerPerTensor(nn.Module):\n",
        "    def __init__(self, bx=8):\n",
        "        super().__init__()\n",
        "        self.observer = MinMaxObserver(dtype=torch.quint8, qscheme=torch.per_tensor_affine, quant_min=0, quant_max=2**bx - 1)\n",
        "        self.scale = None\n",
        "        self.zero_point = None\n",
        "        self.bx = bx\n",
        "        self.enabled = True\n",
        "\n",
        "    def enable(self):\n",
        "        self.enabled = True\n",
        "\n",
        "    def disable(self):\n",
        "        self.enabled = False\n",
        "\n",
        "    def forward(self, x: torch.Tensor) -> torch.Tensor:\n",
        "        if self.enabled:\n",
        "            self.observer(x)\n",
        "            self.scale, self.zero_point = self.observer.calculate_qparams()\n",
        "\n",
        "        if self.scale is None or self.zero_point is None:\n",
        "            raise RuntimeError(\"Quantizer must be calibrated before use.\")\n",
        "\n",
        "        scale = self.scale.to(x.device)\n",
        "        zero_point = self.zero_point.to(scale.dtype).to(x.device)\n",
        "\n",
        "        xq = ste_round(x / scale + zero_point)\n",
        "        xq = torch.clamp(xq, self.observer.quant_min, self.observer.quant_max)\n",
        "        return xq\n",
        "\n",
        "\n",
        "class SymmetricQuantizerPerTensor(nn.Module):\n",
        "    def __init__(self, bw=8):\n",
        "        super().__init__()\n",
        "        maxval = 2 ** (bw - 1) - 1\n",
        "        self.observer = MinMaxObserver(dtype=torch.quint8, qscheme=torch.per_tensor_symmetric, quant_min=-maxval, quant_max=maxval)\n",
        "        self.scale = None\n",
        "        self.bw = bw\n",
        "        self.enabled = True\n",
        "\n",
        "    def enable(self):\n",
        "        self.enabled = True\n",
        "\n",
        "    def disable(self):\n",
        "        self.enabled = False\n",
        "\n",
        "    def forward(self, x: torch.Tensor) -> torch.Tensor:\n",
        "        if self.enabled:\n",
        "            self.observer(x)\n",
        "            self.scale, self.zero_point = self.observer.calculate_qparams()\n",
        "\n",
        "        if self.scale is None or self.zero_point is None:\n",
        "            raise RuntimeError(\"Quantizer must be calibrated before use.\")\n",
        "\n",
        "        scale = self.scale.to(x.device)\n",
        "\n",
        "        xq = ste_round(x / scale)\n",
        "        xq = torch.clamp(xq, self.observer.quant_min, self.observer.quant_max)\n",
        "        return xq\n",
        "\n",
        "class ADCQuantizer(nn.Module):\n",
        "    def __init__(self, M, bx, bw, ba = 8, k = 4):\n",
        "        super().__init__()\n",
        "        self.delta = 2 * M * (2 ** bx - 1) * (2 ** (bw - 1) - 1) / ((2 ** ba - 1) * k)\n",
        "        self.M = M\n",
        "        self.bx = bx\n",
        "        self.bw = bw\n",
        "        self.ba = ba\n",
        "        self.k = k\n",
        "\n",
        "    def forward(self, x: torch.Tensor) -> torch.Tensor:\n",
        "        xq = ste_floor(x / self.delta)\n",
        "        mnval = -2 ** (self.ba - 1)\n",
        "        mxval = 2 ** (self.ba - 1) - 1\n",
        "        xq = torch.clamp(xq, mnval, mxval)\n",
        "        return xq\n"
      ]
    },
    {
      "cell_type": "code",
      "execution_count": null,
      "metadata": {
        "id": "URxgjGPgvUEQ"
      },
      "outputs": [],
      "source": [
        "class LinearADC(nn.Linear):\n",
        "    def __init__(self, in_features, out_features, bx=8, bw=8, ba=8, k=4, bias=True):\n",
        "        super(LinearADC, self).__init__(in_features, out_features, bias)\n",
        "        self.bx = bx\n",
        "        self.bw = bw\n",
        "        self.ba = ba\n",
        "        self.x_quantizer = AffineQuantizerPerTensor(bx)\n",
        "        self.w_quantizer = SymmetricQuantizerPerTensor(bw)\n",
        "        self.adc_quantizer = ADCQuantizer(M=in_features, bx=bx, bw=bw, ba=ba, k=k)\n",
        "\n",
        "    def dequantize(self, yq):\n",
        "\n",
        "        # yq [B, O]\n",
        "\n",
        "        # y = sum xq_i * wq_i\n",
        "        # yq = y /\n",
        "\n",
        "        y = yq * self.adc_quantizer.delta\n",
        "        out = y - self.x_quantizer.zero_point / self.w_quantizer.scale * self.weight.sum(axis=-1)\n",
        "        out = out * self.x_quantizer.scale * self.w_quantizer.scale\n",
        "        return out\n",
        "\n",
        "    def train(self, mode=True):\n",
        "        super().train(mode)\n",
        "        if (mode == True):\n",
        "            self.x_quantizer.enable()\n",
        "            self.w_quantizer.enable()\n",
        "        else:\n",
        "            self.x_quantizer.disable()\n",
        "            self.w_quantizer.disable()\n",
        "        return self\n",
        "\n",
        "    def eval(self, mode=True):\n",
        "        super().eval(mode)\n",
        "        self.train(not mode)\n",
        "        return self\n",
        "\n",
        "    def forward(self, x):\n",
        "        xq = self.x_quantizer(x)\n",
        "        wq = self.w_quantizer(self.weight)\n",
        "        y = nn.functional.linear(xq, wq)\n",
        "        yq = self.adc_quantizer(y)\n",
        "        out = self.dequantize(yq)\n",
        "        if self.bias is not None:\n",
        "            out = out + self.bias\n",
        "        return out"
      ]
    },
    {
      "cell_type": "code",
      "execution_count": null,
      "metadata": {
        "id": "k-Ti5x9Ngv0v"
      },
      "outputs": [],
      "source": [
        "# Define the MLP model\n",
        "class MLP(nn.Module):\n",
        "    def __init__(self):\n",
        "        super(MLP, self).__init__()\n",
        "        self.layers = nn.Sequential(\n",
        "            nn.Linear(784, 256), # Input layer (28x28 images flattened)\n",
        "            nn.ReLU(),\n",
        "            nn.Linear(256, 128),\n",
        "            nn.ReLU(),\n",
        "            nn.Linear(128, 10) # Output layer (10 classes)\n",
        "        )\n",
        "\n",
        "    def forward(self, x):\n",
        "        x = x.view(x.size(0), -1) # Flatten the input images\n",
        "        return self.layers(x)"
      ]
    },
    {
      "cell_type": "code",
      "execution_count": null,
      "metadata": {
        "id": "I71Ub8MirBqk"
      },
      "outputs": [],
      "source": [
        "# Define the MLP model\n",
        "class MLPADC(nn.Module):\n",
        "    def __init__(self, bx=8, bw=8, ba=8, k=4,):\n",
        "        super(MLPADC, self).__init__()\n",
        "        self.layers = nn.Sequential(\n",
        "            LinearADC(784, 256, bx, bw, ba, k), # Input layer (28x28 images flattened)\n",
        "            nn.ReLU(),\n",
        "            LinearADC(256, 128, bx, bw, ba, k),\n",
        "            nn.ReLU(),\n",
        "            LinearADC(128, 10, bx, bw, ba, k) # Output layer (10 classes)\n",
        "        )\n",
        "\n",
        "    def forward(self, x):\n",
        "        x = x.view(x.size(0), -1) # Flatten the input images\n",
        "        return self.layers(x)"
      ]
    },
    {
      "cell_type": "code",
      "execution_count": null,
      "metadata": {
        "colab": {
          "base_uri": "https://localhost:8080/"
        },
        "id": "rHx6SR0knCQa",
        "outputId": "6b8f59d5-8811-42d4-dea4-c0ea00062d21"
      },
      "outputs": [
        {
          "name": "stderr",
          "output_type": "stream",
          "text": [
            "100%|██████████| 26.4M/26.4M [00:02<00:00, 11.0MB/s]\n",
            "100%|██████████| 29.5k/29.5k [00:00<00:00, 173kB/s]\n",
            "100%|██████████| 4.42M/4.42M [00:01<00:00, 3.15MB/s]\n",
            "100%|██████████| 5.15k/5.15k [00:00<00:00, 10.7MB/s]\n"
          ]
        }
      ],
      "source": [
        "from torchvision import datasets, transforms\n",
        "\n",
        "# ... (rest of your code)\n",
        "\n",
        "# Define a transform to normalize the data\n",
        "transform_fm = transforms.Compose([\n",
        "    transforms.ToTensor(),\n",
        "    transforms.Normalize((0.2860,), (0.3530,)) # Normalize using mean and std dev of MNIST\n",
        "])\n",
        "\n",
        "# Download and load the training data\n",
        "train_dataset_fm = datasets.FashionMNIST('./data', train=True, download=True, transform=transform_fm)\n",
        "\n",
        "# Download and load the test data\n",
        "test_dataset_fm = datasets.FashionMNIST('./data', train=False, download=True, transform=transform_fm)\n"
      ]
    },
    {
      "cell_type": "code",
      "execution_count": null,
      "metadata": {
        "colab": {
          "base_uri": "https://localhost:8080/",
          "height": 448
        },
        "id": "H5z3q8eSoPRk",
        "outputId": "d69a7b8e-9264-460f-d694-73ed62b29537"
      },
      "outputs": [
        {
          "data": {
            "text/plain": [
              "<matplotlib.image.AxesImage at 0x7e6a91c43310>"
            ]
          },
          "execution_count": 10,
          "metadata": {},
          "output_type": "execute_result"
        },
        {
          "data": {
            "image/png": "[encoded data removed]",
            "text/plain": [
              "<Figure size 640x480 with 1 Axes>"
            ]
          },
          "metadata": {},
          "output_type": "display_data"
        }
      ],
      "source": [
        "from matplotlib import pyplot as plt\n",
        "plt.imshow(train_dataset_fm[100][0].reshape(28, 28))"
      ]
    },
    {
      "cell_type": "code",
      "execution_count": null,
      "metadata": {
        "id": "OekPDboJg03i"
      },
      "outputs": [],
      "source": [
        "from torch.utils.data import DataLoader\n",
        "\n",
        "# Create data loaders\n",
        "train_loader = DataLoader(train_dataset_fm, batch_size=64, shuffle=True)\n",
        "test_loader = DataLoader(test_dataset_fm, batch_size=1000, shuffle=False)"
      ]
    },
    {
      "cell_type": "code",
      "execution_count": null,
      "metadata": {
        "id": "vmVKWQ3HoBBG"
      },
      "outputs": [],
      "source": []
    },
    {
      "cell_type": "code",
      "execution_count": null,
      "metadata": {
        "id": "QiVNzWF_hO2p"
      },
      "outputs": [],
      "source": [
        "from tqdm import tqdm\n",
        "\n",
        "device = torch.device(\"cuda\" if torch.cuda.is_available() else \"cpu\")\n",
        "\n",
        "def train(model, optimizer, train_loader, test_loader, num_epochs=10):\n",
        "\n",
        "    criterion = nn.CrossEntropyLoss()\n",
        "\n",
        "    train_losses = []\n",
        "    train_accuracies = []\n",
        "    test_losses = []\n",
        "    test_accuracies = []\n",
        "    for epoch in range(num_epochs):\n",
        "        model.train()\n",
        "        loss_all = 0\n",
        "        acc_all = 0\n",
        "        for data, target in tqdm(train_loader, desc=f'Train epoch {epoch}/{num_epochs}'):\n",
        "            data, target = data.to(device), target.to(device)\n",
        "            optimizer.zero_grad()\n",
        "            output = model(data)\n",
        "            loss = criterion(output, target)\n",
        "            loss.backward()\n",
        "            optimizer.step()\n",
        "            acc = (output.argmax(dim=1) == target).float().sum()\n",
        "            loss_all += loss.item()\n",
        "            acc_all += acc\n",
        "        loss_all /= len(train_loader.dataset)\n",
        "        acc_all /= len(train_loader.dataset)\n",
        "        print(f'Train Loss: {loss_all}, Train Acc: {acc_all}')\n",
        "        train_losses.append(loss_all)\n",
        "        train_accuracies.append(acc_all.cpu().item())\n",
        "\n",
        "        model.eval()\n",
        "        loss_all = 0\n",
        "        acc_all = 0\n",
        "        with torch.no_grad():\n",
        "            for data, target in tqdm(test_loader, desc=f'Test epoch {epoch}/{num_epochs}'):\n",
        "                data, target = data.to(device), target.to(device)\n",
        "                output = model(data)\n",
        "                loss = criterion(output, target)\n",
        "                acc = (output.argmax(dim=1) == target).float().sum()\n",
        "                loss_all += loss.item()\n",
        "                acc_all += acc\n",
        "\n",
        "            loss_all /= len(test_loader.dataset)\n",
        "            acc_all /= len(test_loader.dataset)\n",
        "            print(f'Test Loss: {loss_all}, Test Acc: {acc_all}')\n",
        "            test_losses.append(loss_all)\n",
        "            test_accuracies.append(acc_all.cpu().item())\n",
        "\n",
        "    return train_losses, train_accuracies, test_losses, test_accuracies"
      ]
    },
    {
      "cell_type": "code",
      "execution_count": null,
      "metadata": {
        "id": "xW7RUEaNtp0z"
      },
      "outputs": [],
      "source": [
        "def evaluate(model, test_loader):\n",
        "    model.eval()\n",
        "    test_loss = 0\n",
        "    correct = 0\n",
        "    criterion = torch.nn.CrossEntropyLoss()\n",
        "    with torch.no_grad():\n",
        "        for data, target in tqdm(test_loader, desc='Eval'):\n",
        "            data, target = data.to(device), target.to(device)\n",
        "            output = model(data)\n",
        "            test_loss += criterion(output, target).item()\n",
        "            acc = (output.argmax(dim=1) == target).float().sum()\n",
        "            correct += acc.cpu().item()\n",
        "    test_loss /= len(test_loader.dataset)\n",
        "    correct /= len(test_loader.dataset)\n",
        "    return test_loss, correct\n",
        "\n"
      ]
    },
    {
      "cell_type": "code",
      "execution_count": null,
      "metadata": {
        "id": "SmCe3MqiB4zz"
      },
      "outputs": [],
      "source": [
        "def calibrate(model, test_loader):\n",
        "    model.train()\n",
        "    test_loss = 0\n",
        "    correct = 0\n",
        "    criterion = torch.nn.CrossEntropyLoss()\n",
        "    with torch.no_grad():\n",
        "        for data, target in tqdm(test_loader, desc='Eval'):\n",
        "            data, target = data.to(device), target.to(device)\n",
        "            output = model(data)\n",
        "            test_loss += criterion(output, target).item()\n",
        "            acc = (output.argmax(dim=1) == target).float().sum()\n",
        "            correct += acc.cpu().item()\n",
        "    test_loss /= len(test_loader.dataset)\n",
        "    correct /= len(test_loader.dataset)\n",
        "    return test_loss, correct\n",
        "\n"
      ]
    },
    {
      "cell_type": "code",
      "execution_count": null,
      "metadata": {
        "colab": {
          "base_uri": "https://localhost:8080/"
        },
        "id": "Ebl4XVu9pl_R",
        "outputId": "6a730b49-9c7b-40c4-b2ba-1924bb368a6a"
      },
      "outputs": [
        {
          "name": "stderr",
          "output_type": "stream",
          "text": [
            "Train epoch 0/20: 100%|██████████| 938/938 [00:13<00:00, 67.13it/s]\n"
          ]
        },
        {
          "name": "stdout",
          "output_type": "stream",
          "text": [
            "Train Loss: 0.00721277718146642, Train Acc: 0.8320666551589966\n"
          ]
        },
        {
          "name": "stderr",
          "output_type": "stream",
          "text": [
            "Test epoch 0/20: 100%|██████████| 10/10 [00:01<00:00,  5.84it/s]\n"
          ]
        },
        {
          "name": "stdout",
          "output_type": "stream",
          "text": [
            "Test Loss: 0.00041599195301532746, Test Acc: 0.8465999960899353\n"
          ]
        },
        {
          "name": "stderr",
          "output_type": "stream",
          "text": [
            "Train epoch 1/20: 100%|██████████| 938/938 [00:12<00:00, 72.57it/s]\n"
          ]
        },
        {
          "name": "stdout",
          "output_type": "stream",
          "text": [
            "Train Loss: 0.005356130203107993, Train Acc: 0.8736500144004822\n"
          ]
        },
        {
          "name": "stderr",
          "output_type": "stream",
          "text": [
            "Test epoch 1/20: 100%|██████████| 10/10 [00:02<00:00,  4.86it/s]\n"
          ]
        },
        {
          "name": "stdout",
          "output_type": "stream",
          "text": [
            "Test Loss: 0.0003602125495672226, Test Acc: 0.8669999837875366\n"
          ]
        },
        {
          "name": "stderr",
          "output_type": "stream",
          "text": [
            "Train epoch 2/20: 100%|██████████| 938/938 [00:12<00:00, 73.36it/s]\n"
          ]
        },
        {
          "name": "stdout",
          "output_type": "stream",
          "text": [
            "Train Loss: 0.004818547580639521, Train Acc: 0.8842833638191223\n"
          ]
        },
        {
          "name": "stderr",
          "output_type": "stream",
          "text": [
            "Test epoch 2/20: 100%|██████████| 10/10 [00:01<00:00,  5.01it/s]\n"
          ]
        },
        {
          "name": "stdout",
          "output_type": "stream",
          "text": [
            "Test Loss: 0.00035233524441719054, Test Acc: 0.8703999519348145\n"
          ]
        },
        {
          "name": "stderr",
          "output_type": "stream",
          "text": [
            "Train epoch 3/20: 100%|██████████| 938/938 [00:13<00:00, 71.73it/s]\n"
          ]
        },
        {
          "name": "stdout",
          "output_type": "stream",
          "text": [
            "Train Loss: 0.004394081575920184, Train Acc: 0.8950499892234802\n"
          ]
        },
        {
          "name": "stderr",
          "output_type": "stream",
          "text": [
            "Test epoch 3/20: 100%|██████████| 10/10 [00:01<00:00,  5.98it/s]\n"
          ]
        },
        {
          "name": "stdout",
          "output_type": "stream",
          "text": [
            "Test Loss: 0.000373055961728096, Test Acc: 0.8712999820709229\n"
          ]
        },
        {
          "name": "stderr",
          "output_type": "stream",
          "text": [
            "Train epoch 4/20: 100%|██████████| 938/938 [00:12<00:00, 73.25it/s]\n"
          ]
        },
        {
          "name": "stdout",
          "output_type": "stream",
          "text": [
            "Train Loss: 0.004178703177409868, Train Acc: 0.8996999859809875\n"
          ]
        },
        {
          "name": "stderr",
          "output_type": "stream",
          "text": [
            "Test epoch 4/20: 100%|██████████| 10/10 [00:01<00:00,  5.90it/s]\n"
          ]
        },
        {
          "name": "stdout",
          "output_type": "stream",
          "text": [
            "Test Loss: 0.0003508728176355362, Test Acc: 0.8738999962806702\n"
          ]
        },
        {
          "name": "stderr",
          "output_type": "stream",
          "text": [
            "Train epoch 5/20: 100%|██████████| 938/938 [00:12<00:00, 73.16it/s]\n"
          ]
        },
        {
          "name": "stdout",
          "output_type": "stream",
          "text": [
            "Train Loss: 0.0039040743250399828, Train Acc: 0.9045667052268982\n"
          ]
        },
        {
          "name": "stderr",
          "output_type": "stream",
          "text": [
            "Test epoch 5/20: 100%|██████████| 10/10 [00:01<00:00,  5.95it/s]\n"
          ]
        },
        {
          "name": "stdout",
          "output_type": "stream",
          "text": [
            "Test Loss: 0.00034309151768684387, Test Acc: 0.8836999535560608\n"
          ]
        },
        {
          "name": "stderr",
          "output_type": "stream",
          "text": [
            "Train epoch 6/20: 100%|██████████| 938/938 [00:12<00:00, 73.28it/s]\n"
          ]
        },
        {
          "name": "stdout",
          "output_type": "stream",
          "text": [
            "Train Loss: 0.0036493274522945286, Train Acc: 0.9113166928291321\n"
          ]
        },
        {
          "name": "stderr",
          "output_type": "stream",
          "text": [
            "Test epoch 6/20: 100%|██████████| 10/10 [00:01<00:00,  5.91it/s]\n"
          ]
        },
        {
          "name": "stdout",
          "output_type": "stream",
          "text": [
            "Test Loss: 0.0003455321252346039, Test Acc: 0.8818999528884888\n"
          ]
        },
        {
          "name": "stderr",
          "output_type": "stream",
          "text": [
            "Train epoch 7/20: 100%|██████████| 938/938 [00:13<00:00, 71.22it/s]\n"
          ]
        },
        {
          "name": "stdout",
          "output_type": "stream",
          "text": [
            "Train Loss: 0.003457586031034589, Train Acc: 0.9174667000770569\n"
          ]
        },
        {
          "name": "stderr",
          "output_type": "stream",
          "text": [
            "Test epoch 7/20: 100%|██████████| 10/10 [00:02<00:00,  3.57it/s]\n"
          ]
        },
        {
          "name": "stdout",
          "output_type": "stream",
          "text": [
            "Test Loss: 0.00032532451152801514, Test Acc: 0.8892999887466431\n"
          ]
        },
        {
          "name": "stderr",
          "output_type": "stream",
          "text": [
            "Train epoch 8/20: 100%|██████████| 938/938 [00:12<00:00, 73.34it/s]\n"
          ]
        },
        {
          "name": "stdout",
          "output_type": "stream",
          "text": [
            "Train Loss: 0.0032434034091730914, Train Acc: 0.9215999841690063\n"
          ]
        },
        {
          "name": "stderr",
          "output_type": "stream",
          "text": [
            "Test epoch 8/20: 100%|██████████| 10/10 [00:01<00:00,  5.88it/s]\n"
          ]
        },
        {
          "name": "stdout",
          "output_type": "stream",
          "text": [
            "Test Loss: 0.0003380194574594498, Test Acc: 0.886199951171875\n"
          ]
        },
        {
          "name": "stderr",
          "output_type": "stream",
          "text": [
            "Train epoch 9/20: 100%|██████████| 938/938 [00:12<00:00, 72.92it/s]\n"
          ]
        },
        {
          "name": "stdout",
          "output_type": "stream",
          "text": [
            "Train Loss: 0.003083993276891609, Train Acc: 0.9245499968528748\n"
          ]
        },
        {
          "name": "stderr",
          "output_type": "stream",
          "text": [
            "Test epoch 9/20: 100%|██████████| 10/10 [00:01<00:00,  5.79it/s]\n"
          ]
        },
        {
          "name": "stdout",
          "output_type": "stream",
          "text": [
            "Test Loss: 0.00033875406086444855, Test Acc: 0.8849999904632568\n"
          ]
        },
        {
          "name": "stderr",
          "output_type": "stream",
          "text": [
            "Train epoch 10/20: 100%|██████████| 938/938 [00:13<00:00, 71.70it/s]\n"
          ]
        },
        {
          "name": "stdout",
          "output_type": "stream",
          "text": [
            "Train Loss: 0.002925878388931354, Train Acc: 0.9277499914169312\n"
          ]
        },
        {
          "name": "stderr",
          "output_type": "stream",
          "text": [
            "Test epoch 10/20: 100%|██████████| 10/10 [00:01<00:00,  5.81it/s]\n"
          ]
        },
        {
          "name": "stdout",
          "output_type": "stream",
          "text": [
            "Test Loss: 0.0003779812127351761, Test Acc: 0.8754000067710876\n"
          ]
        },
        {
          "name": "stderr",
          "output_type": "stream",
          "text": [
            "Train epoch 11/20: 100%|██████████| 938/938 [00:12<00:00, 72.24it/s]\n"
          ]
        },
        {
          "name": "stdout",
          "output_type": "stream",
          "text": [
            "Train Loss: 0.0027806766867016753, Train Acc: 0.9321500062942505\n"
          ]
        },
        {
          "name": "stderr",
          "output_type": "stream",
          "text": [
            "Test epoch 11/20: 100%|██████████| 10/10 [00:02<00:00,  4.81it/s]\n"
          ]
        },
        {
          "name": "stdout",
          "output_type": "stream",
          "text": [
            "Test Loss: 0.0003477201998233795, Test Acc: 0.8855999708175659\n"
          ]
        },
        {
          "name": "stderr",
          "output_type": "stream",
          "text": [
            "Train epoch 12/20: 100%|██████████| 938/938 [00:13<00:00, 69.48it/s]\n"
          ]
        },
        {
          "name": "stdout",
          "output_type": "stream",
          "text": [
            "Train Loss: 0.0026787519877776505, Train Acc: 0.9345833659172058\n"
          ]
        },
        {
          "name": "stderr",
          "output_type": "stream",
          "text": [
            "Test epoch 12/20: 100%|██████████| 10/10 [00:01<00:00,  5.83it/s]\n"
          ]
        },
        {
          "name": "stdout",
          "output_type": "stream",
          "text": [
            "Test Loss: 0.00035861955881118777, Test Acc: 0.8912000060081482\n"
          ]
        },
        {
          "name": "stderr",
          "output_type": "stream",
          "text": [
            "Train epoch 13/20: 100%|██████████| 938/938 [00:13<00:00, 71.67it/s]\n"
          ]
        },
        {
          "name": "stdout",
          "output_type": "stream",
          "text": [
            "Train Loss: 0.0025181936137688658, Train Acc: 0.9389833211898804\n"
          ]
        },
        {
          "name": "stderr",
          "output_type": "stream",
          "text": [
            "Test epoch 13/20: 100%|██████████| 10/10 [00:01<00:00,  5.93it/s]\n"
          ]
        },
        {
          "name": "stdout",
          "output_type": "stream",
          "text": [
            "Test Loss: 0.0003616516947746277, Test Acc: 0.8940999507904053\n"
          ]
        },
        {
          "name": "stderr",
          "output_type": "stream",
          "text": [
            "Train epoch 14/20: 100%|██████████| 938/938 [00:12<00:00, 72.51it/s]\n"
          ]
        },
        {
          "name": "stdout",
          "output_type": "stream",
          "text": [
            "Train Loss: 0.002405961685317258, Train Acc: 0.9418166875839233\n"
          ]
        },
        {
          "name": "stderr",
          "output_type": "stream",
          "text": [
            "Test epoch 14/20: 100%|██████████| 10/10 [00:01<00:00,  5.86it/s]\n"
          ]
        },
        {
          "name": "stdout",
          "output_type": "stream",
          "text": [
            "Test Loss: 0.00038039774894714354, Test Acc: 0.8862999677658081\n"
          ]
        },
        {
          "name": "stderr",
          "output_type": "stream",
          "text": [
            "Train epoch 15/20: 100%|██████████| 938/938 [00:13<00:00, 71.63it/s]\n"
          ]
        },
        {
          "name": "stdout",
          "output_type": "stream",
          "text": [
            "Train Loss: 0.002286750077518324, Train Acc: 0.9444167017936707\n"
          ]
        },
        {
          "name": "stderr",
          "output_type": "stream",
          "text": [
            "Test epoch 15/20: 100%|██████████| 10/10 [00:01<00:00,  5.74it/s]\n"
          ]
        },
        {
          "name": "stdout",
          "output_type": "stream",
          "text": [
            "Test Loss: 0.00041974391639232637, Test Acc: 0.8844999670982361\n"
          ]
        },
        {
          "name": "stderr",
          "output_type": "stream",
          "text": [
            "Train epoch 16/20: 100%|██████████| 938/938 [00:13<00:00, 70.63it/s]\n"
          ]
        },
        {
          "name": "stdout",
          "output_type": "stream",
          "text": [
            "Train Loss: 0.0021562130969172964, Train Acc: 0.9471499919891357\n"
          ]
        },
        {
          "name": "stderr",
          "output_type": "stream",
          "text": [
            "Test epoch 16/20: 100%|██████████| 10/10 [00:02<00:00,  4.87it/s]\n"
          ]
        },
        {
          "name": "stdout",
          "output_type": "stream",
          "text": [
            "Test Loss: 0.0003901459455490112, Test Acc: 0.8898999691009521\n"
          ]
        },
        {
          "name": "stderr",
          "output_type": "stream",
          "text": [
            "Train epoch 17/20: 100%|██████████| 938/938 [00:12<00:00, 72.80it/s]\n"
          ]
        },
        {
          "name": "stdout",
          "output_type": "stream",
          "text": [
            "Train Loss: 0.0021295943628375728, Train Acc: 0.9474166631698608\n"
          ]
        },
        {
          "name": "stderr",
          "output_type": "stream",
          "text": [
            "Test epoch 17/20: 100%|██████████| 10/10 [00:01<00:00,  5.89it/s]\n"
          ]
        },
        {
          "name": "stdout",
          "output_type": "stream",
          "text": [
            "Test Loss: 0.00040855092108249666, Test Acc: 0.8908999562263489\n"
          ]
        },
        {
          "name": "stderr",
          "output_type": "stream",
          "text": [
            "Train epoch 18/20: 100%|██████████| 938/938 [00:12<00:00, 73.11it/s]\n"
          ]
        },
        {
          "name": "stdout",
          "output_type": "stream",
          "text": [
            "Train Loss: 0.0020575091113646826, Train Acc: 0.9500499963760376\n"
          ]
        },
        {
          "name": "stderr",
          "output_type": "stream",
          "text": [
            "Test epoch 18/20: 100%|██████████| 10/10 [00:01<00:00,  5.97it/s]\n"
          ]
        },
        {
          "name": "stdout",
          "output_type": "stream",
          "text": [
            "Test Loss: 0.0004302166432142258, Test Acc: 0.8854999542236328\n"
          ]
        },
        {
          "name": "stderr",
          "output_type": "stream",
          "text": [
            "Train epoch 19/20: 100%|██████████| 938/938 [00:12<00:00, 72.36it/s]\n"
          ]
        },
        {
          "name": "stdout",
          "output_type": "stream",
          "text": [
            "Train Loss: 0.0019548566044308244, Train Acc: 0.9523333311080933\n"
          ]
        },
        {
          "name": "stderr",
          "output_type": "stream",
          "text": [
            "Test epoch 19/20: 100%|██████████| 10/10 [00:01<00:00,  5.72it/s]"
          ]
        },
        {
          "name": "stdout",
          "output_type": "stream",
          "text": [
            "Test Loss: 0.0004729176491498947, Test Acc: 0.8910999894142151\n"
          ]
        },
        {
          "name": "stderr",
          "output_type": "stream",
          "text": [
            "\n"
          ]
        }
      ],
      "source": [
        "model = MLP().to(device)\n",
        "optimizer = torch.optim.Adam(model.parameters(), lr=0.001)\n",
        "train_losses, train_accuracies, test_losses, test_accuracies = train(model, optimizer, train_loader, test_loader, num_epochs=20)"
      ]
    },
    {
      "cell_type": "code",
      "execution_count": null,
      "metadata": {
        "colab": {
          "base_uri": "https://localhost:8080/"
        },
        "id": "v2SVJXU_ze30",
        "outputId": "268c1970-f06f-49b4-e151-47f76e68c07a"
      },
      "outputs": [
        {
          "data": {
            "text/plain": [
              "<All keys matched successfully>"
            ]
          },
          "execution_count": 16,
          "metadata": {},
          "output_type": "execute_result"
        }
      ],
      "source": [
        "#torch.save(model.state_dict(), \"model_gth.pt\")\n",
        "model = MLP().to(device)\n",
        "model.load_state_dict(torch.load(\"model_gth.pt\"))"
      ]
    },
    {
      "cell_type": "code",
      "execution_count": null,
      "metadata": {
        "colab": {
          "base_uri": "https://localhost:8080/"
        },
        "id": "366JfSkGrgLl",
        "outputId": "1410ee7b-1fe3-4cb9-e203-4665c0a6ac05"
      },
      "outputs": [
        {
          "name": "stderr",
          "output_type": "stream",
          "text": [
            "Train epoch 0/20: 100%|██████████| 938/938 [00:17<00:00, 52.35it/s]\n"
          ]
        },
        {
          "name": "stdout",
          "output_type": "stream",
          "text": [
            "Train Loss: 0.007489740243305763, Train Acc: 0.822866678237915\n"
          ]
        },
        {
          "name": "stderr",
          "output_type": "stream",
          "text": [
            "Test epoch 0/20: 100%|██████████| 10/10 [00:01<00:00,  5.89it/s]\n"
          ]
        },
        {
          "name": "stdout",
          "output_type": "stream",
          "text": [
            "Test Loss: 0.0004649685949087143, Test Acc: 0.8126999735832214\n"
          ]
        },
        {
          "name": "stderr",
          "output_type": "stream",
          "text": [
            "Train epoch 1/20: 100%|██████████| 938/938 [00:18<00:00, 50.61it/s]\n"
          ]
        },
        {
          "name": "stdout",
          "output_type": "stream",
          "text": [
            "Train Loss: 0.0063196989949792625, Train Acc: 0.843666672706604\n"
          ]
        },
        {
          "name": "stderr",
          "output_type": "stream",
          "text": [
            "Test epoch 1/20: 100%|██████████| 10/10 [00:01<00:00,  5.81it/s]\n"
          ]
        },
        {
          "name": "stdout",
          "output_type": "stream",
          "text": [
            "Test Loss: 0.00044846313297748565, Test Acc: 0.840399980545044\n"
          ]
        },
        {
          "name": "stderr",
          "output_type": "stream",
          "text": [
            "Train epoch 2/20: 100%|██████████| 938/938 [00:18<00:00, 51.47it/s]\n"
          ]
        },
        {
          "name": "stdout",
          "output_type": "stream",
          "text": [
            "Train Loss: 0.006504509110748768, Train Acc: 0.840316653251648\n"
          ]
        },
        {
          "name": "stderr",
          "output_type": "stream",
          "text": [
            "Test epoch 2/20: 100%|██████████| 10/10 [00:02<00:00,  4.91it/s]\n"
          ]
        },
        {
          "name": "stdout",
          "output_type": "stream",
          "text": [
            "Test Loss: 0.000489807203412056, Test Acc: 0.8043999671936035\n"
          ]
        },
        {
          "name": "stderr",
          "output_type": "stream",
          "text": [
            "Train epoch 3/20: 100%|██████████| 938/938 [00:18<00:00, 51.84it/s]\n"
          ]
        },
        {
          "name": "stdout",
          "output_type": "stream",
          "text": [
            "Train Loss: 0.007220149974649151, Train Acc: 0.833299994468689\n"
          ]
        },
        {
          "name": "stderr",
          "output_type": "stream",
          "text": [
            "Test epoch 3/20: 100%|██████████| 10/10 [00:01<00:00,  5.99it/s]\n"
          ]
        },
        {
          "name": "stdout",
          "output_type": "stream",
          "text": [
            "Test Loss: 0.0005773833423852921, Test Acc: 0.838699996471405\n"
          ]
        },
        {
          "name": "stderr",
          "output_type": "stream",
          "text": [
            "Train epoch 4/20: 100%|██████████| 938/938 [00:18<00:00, 51.16it/s]\n"
          ]
        },
        {
          "name": "stdout",
          "output_type": "stream",
          "text": [
            "Train Loss: 0.00782016809756557, Train Acc: 0.8367833495140076\n"
          ]
        },
        {
          "name": "stderr",
          "output_type": "stream",
          "text": [
            "Test epoch 4/20: 100%|██████████| 10/10 [00:01<00:00,  5.89it/s]\n"
          ]
        },
        {
          "name": "stdout",
          "output_type": "stream",
          "text": [
            "Test Loss: 0.0007074754655361175, Test Acc: 0.8229999542236328\n"
          ]
        },
        {
          "name": "stderr",
          "output_type": "stream",
          "text": [
            "Train epoch 5/20: 100%|██████████| 938/938 [00:17<00:00, 52.58it/s]\n"
          ]
        },
        {
          "name": "stdout",
          "output_type": "stream",
          "text": [
            "Train Loss: 0.009090902652715643, Train Acc: 0.8377666473388672\n"
          ]
        },
        {
          "name": "stderr",
          "output_type": "stream",
          "text": [
            "Test epoch 5/20: 100%|██████████| 10/10 [00:02<00:00,  4.59it/s]\n"
          ]
        },
        {
          "name": "stdout",
          "output_type": "stream",
          "text": [
            "Test Loss: 0.000774140179157257, Test Acc: 0.8344999551773071\n"
          ]
        },
        {
          "name": "stderr",
          "output_type": "stream",
          "text": [
            "Train epoch 6/20: 100%|██████████| 938/938 [00:17<00:00, 52.88it/s]\n"
          ]
        },
        {
          "name": "stdout",
          "output_type": "stream",
          "text": [
            "Train Loss: 0.011136348914727569, Train Acc: 0.8423333168029785\n"
          ]
        },
        {
          "name": "stderr",
          "output_type": "stream",
          "text": [
            "Test epoch 6/20: 100%|██████████| 10/10 [00:01<00:00,  5.90it/s]\n"
          ]
        },
        {
          "name": "stdout",
          "output_type": "stream",
          "text": [
            "Test Loss: 0.0008983431100845337, Test Acc: 0.8289999961853027\n"
          ]
        },
        {
          "name": "stderr",
          "output_type": "stream",
          "text": [
            "Train epoch 7/20: 100%|██████████| 938/938 [00:18<00:00, 51.25it/s]\n"
          ]
        },
        {
          "name": "stdout",
          "output_type": "stream",
          "text": [
            "Train Loss: 0.01183038212954998, Train Acc: 0.8483666777610779\n"
          ]
        },
        {
          "name": "stderr",
          "output_type": "stream",
          "text": [
            "Test epoch 7/20: 100%|██████████| 10/10 [00:01<00:00,  6.02it/s]\n"
          ]
        },
        {
          "name": "stdout",
          "output_type": "stream",
          "text": [
            "Test Loss: 0.0010662906408309936, Test Acc: 0.8082000017166138\n"
          ]
        },
        {
          "name": "stderr",
          "output_type": "stream",
          "text": [
            "Train epoch 8/20: 100%|██████████| 938/938 [00:17<00:00, 53.10it/s]\n"
          ]
        },
        {
          "name": "stdout",
          "output_type": "stream",
          "text": [
            "Train Loss: 0.013582917484268545, Train Acc: 0.850350022315979\n"
          ]
        },
        {
          "name": "stderr",
          "output_type": "stream",
          "text": [
            "Test epoch 8/20: 100%|██████████| 10/10 [00:02<00:00,  4.85it/s]\n"
          ]
        },
        {
          "name": "stdout",
          "output_type": "stream",
          "text": [
            "Test Loss: 0.0012021382331848145, Test Acc: 0.8317999839782715\n"
          ]
        },
        {
          "name": "stderr",
          "output_type": "stream",
          "text": [
            "Train epoch 9/20: 100%|██████████| 938/938 [00:17<00:00, 52.16it/s]\n"
          ]
        },
        {
          "name": "stdout",
          "output_type": "stream",
          "text": [
            "Train Loss: 0.015703000795096157, Train Acc: 0.8551999926567078\n"
          ]
        },
        {
          "name": "stderr",
          "output_type": "stream",
          "text": [
            "Test epoch 9/20: 100%|██████████| 10/10 [00:01<00:00,  5.81it/s]\n"
          ]
        },
        {
          "name": "stdout",
          "output_type": "stream",
          "text": [
            "Test Loss: 0.0014889022946357727, Test Acc: 0.824400007724762\n"
          ]
        },
        {
          "name": "stderr",
          "output_type": "stream",
          "text": [
            "Train epoch 10/20: 100%|██████████| 938/938 [00:18<00:00, 51.10it/s]\n"
          ]
        },
        {
          "name": "stdout",
          "output_type": "stream",
          "text": [
            "Train Loss: 0.016546212731301784, Train Acc: 0.8551833629608154\n"
          ]
        },
        {
          "name": "stderr",
          "output_type": "stream",
          "text": [
            "Test epoch 10/20: 100%|██████████| 10/10 [00:01<00:00,  5.95it/s]\n"
          ]
        },
        {
          "name": "stdout",
          "output_type": "stream",
          "text": [
            "Test Loss: 0.0018572172284126282, Test Acc: 0.8324999809265137\n"
          ]
        },
        {
          "name": "stderr",
          "output_type": "stream",
          "text": [
            "Train epoch 11/20: 100%|██████████| 938/938 [00:17<00:00, 52.80it/s]\n"
          ]
        },
        {
          "name": "stdout",
          "output_type": "stream",
          "text": [
            "Train Loss: 0.018942574762056272, Train Acc: 0.8585500121116638\n"
          ]
        },
        {
          "name": "stderr",
          "output_type": "stream",
          "text": [
            "Test epoch 11/20: 100%|██████████| 10/10 [00:01<00:00,  5.53it/s]\n"
          ]
        },
        {
          "name": "stdout",
          "output_type": "stream",
          "text": [
            "Test Loss: 0.0018251892447471618, Test Acc: 0.8398000001907349\n"
          ]
        },
        {
          "name": "stderr",
          "output_type": "stream",
          "text": [
            "Train epoch 12/20: 100%|██████████| 938/938 [00:18<00:00, 51.19it/s]\n"
          ]
        },
        {
          "name": "stdout",
          "output_type": "stream",
          "text": [
            "Train Loss: 0.021602123663201928, Train Acc: 0.8627166748046875\n"
          ]
        },
        {
          "name": "stderr",
          "output_type": "stream",
          "text": [
            "Test epoch 12/20: 100%|██████████| 10/10 [00:01<00:00,  5.89it/s]\n"
          ]
        },
        {
          "name": "stdout",
          "output_type": "stream",
          "text": [
            "Test Loss: 0.0021529173612594606, Test Acc: 0.8411999940872192\n"
          ]
        },
        {
          "name": "stderr",
          "output_type": "stream",
          "text": [
            "Train epoch 13/20: 100%|██████████| 938/938 [00:18<00:00, 50.16it/s]\n"
          ]
        },
        {
          "name": "stdout",
          "output_type": "stream",
          "text": [
            "Train Loss: 0.027502763337021074, Train Acc: 0.8606333136558533\n"
          ]
        },
        {
          "name": "stderr",
          "output_type": "stream",
          "text": [
            "Test epoch 13/20: 100%|██████████| 10/10 [00:01<00:00,  5.99it/s]\n"
          ]
        },
        {
          "name": "stdout",
          "output_type": "stream",
          "text": [
            "Test Loss: 0.0029578522682189943, Test Acc: 0.8393999934196472\n"
          ]
        },
        {
          "name": "stderr",
          "output_type": "stream",
          "text": [
            "Train epoch 14/20: 100%|██████████| 938/938 [00:18<00:00, 51.67it/s]\n"
          ]
        },
        {
          "name": "stdout",
          "output_type": "stream",
          "text": [
            "Train Loss: 0.03297291493515173, Train Acc: 0.8601833581924438\n"
          ]
        },
        {
          "name": "stderr",
          "output_type": "stream",
          "text": [
            "Test epoch 14/20: 100%|██████████| 10/10 [00:01<00:00,  5.26it/s]\n"
          ]
        },
        {
          "name": "stdout",
          "output_type": "stream",
          "text": [
            "Test Loss: 0.0038119203329086302, Test Acc: 0.8269000053405762\n"
          ]
        },
        {
          "name": "stderr",
          "output_type": "stream",
          "text": [
            "Train epoch 15/20: 100%|██████████| 938/938 [00:18<00:00, 50.60it/s]\n"
          ]
        },
        {
          "name": "stdout",
          "output_type": "stream",
          "text": [
            "Train Loss: 0.0381924197102276, Train Acc: 0.8627333641052246\n"
          ]
        },
        {
          "name": "stderr",
          "output_type": "stream",
          "text": [
            "Test epoch 15/20: 100%|██████████| 10/10 [00:01<00:00,  5.84it/s]\n"
          ]
        },
        {
          "name": "stdout",
          "output_type": "stream",
          "text": [
            "Test Loss: 0.004110025930404663, Test Acc: 0.842199981212616\n"
          ]
        },
        {
          "name": "stderr",
          "output_type": "stream",
          "text": [
            "Train epoch 16/20: 100%|██████████| 938/938 [00:18<00:00, 49.79it/s]\n"
          ]
        },
        {
          "name": "stdout",
          "output_type": "stream",
          "text": [
            "Train Loss: 0.04171617711248497, Train Acc: 0.8666999936103821\n"
          ]
        },
        {
          "name": "stderr",
          "output_type": "stream",
          "text": [
            "Test epoch 16/20: 100%|██████████| 10/10 [00:01<00:00,  5.80it/s]\n"
          ]
        },
        {
          "name": "stdout",
          "output_type": "stream",
          "text": [
            "Test Loss: 0.004417714691162109, Test Acc: 0.8362999558448792\n"
          ]
        },
        {
          "name": "stderr",
          "output_type": "stream",
          "text": [
            "Train epoch 17/20: 100%|██████████| 938/938 [00:18<00:00, 51.95it/s]\n"
          ]
        },
        {
          "name": "stdout",
          "output_type": "stream",
          "text": [
            "Train Loss: 0.04320026886627699, Train Acc: 0.8701333403587341\n"
          ]
        },
        {
          "name": "stderr",
          "output_type": "stream",
          "text": [
            "Test epoch 17/20: 100%|██████████| 10/10 [00:01<00:00,  5.02it/s]\n"
          ]
        },
        {
          "name": "stdout",
          "output_type": "stream",
          "text": [
            "Test Loss: 0.004695555591583252, Test Acc: 0.8456999659538269\n"
          ]
        },
        {
          "name": "stderr",
          "output_type": "stream",
          "text": [
            "Train epoch 18/20: 100%|██████████| 938/938 [00:18<00:00, 50.26it/s]\n"
          ]
        },
        {
          "name": "stdout",
          "output_type": "stream",
          "text": [
            "Train Loss: 0.049469819265728195, Train Acc: 0.8689666986465454\n"
          ]
        },
        {
          "name": "stderr",
          "output_type": "stream",
          "text": [
            "Test epoch 18/20: 100%|██████████| 10/10 [00:01<00:00,  5.80it/s]\n"
          ]
        },
        {
          "name": "stdout",
          "output_type": "stream",
          "text": [
            "Test Loss: 0.0054619251728057865, Test Acc: 0.8445999622344971\n"
          ]
        },
        {
          "name": "stderr",
          "output_type": "stream",
          "text": [
            "Train epoch 19/20: 100%|██████████| 938/938 [00:18<00:00, 50.06it/s]\n"
          ]
        },
        {
          "name": "stdout",
          "output_type": "stream",
          "text": [
            "Train Loss: 0.054020337089151146, Train Acc: 0.8718667030334473\n"
          ]
        },
        {
          "name": "stderr",
          "output_type": "stream",
          "text": [
            "Test epoch 19/20: 100%|██████████| 10/10 [00:01<00:00,  5.77it/s]"
          ]
        },
        {
          "name": "stdout",
          "output_type": "stream",
          "text": [
            "Test Loss: 0.006594453859329223, Test Acc: 0.849399983882904\n"
          ]
        },
        {
          "name": "stderr",
          "output_type": "stream",
          "text": [
            "\n"
          ]
        }
      ],
      "source": [
        "model_adc8 = MLPADC(bx=8, bw=8, ba=8, k=4).to(device)\n",
        "optimizer = torch.optim.Adam(model_adc8.parameters(), lr=0.001)\n",
        "train_losses_adc8, train_accuracies_adc8, test_losses_adc8, test_accuracies_adc8 = train(model_adc8, optimizer, train_loader, test_loader, num_epochs=20)"
      ]
    },
    {
      "cell_type": "code",
      "execution_count": null,
      "metadata": {
        "id": "Q2kKiFRbzEbW"
      },
      "outputs": [],
      "source": [
        "torch.save(model_adc8.state_dict(), \"adc8.pt\")"
      ]
    },
    {
      "cell_type": "code",
      "execution_count": null,
      "metadata": {
        "colab": {
          "base_uri": "https://localhost:8080/"
        },
        "id": "ZLLW7iAXus62",
        "outputId": "acdf2440-500a-41f2-f885-218e3573486d"
      },
      "outputs": [
        {
          "name": "stderr",
          "output_type": "stream",
          "text": [
            "Train epoch 0/20: 100%|██████████| 938/938 [00:18<00:00, 51.99it/s]\n"
          ]
        },
        {
          "name": "stdout",
          "output_type": "stream",
          "text": [
            "Train Loss: 0.007622110737115145, Train Acc: 0.8204166889190674\n"
          ]
        },
        {
          "name": "stderr",
          "output_type": "stream",
          "text": [
            "Test epoch 0/20: 100%|██████████| 10/10 [00:01<00:00,  5.78it/s]\n"
          ]
        },
        {
          "name": "stdout",
          "output_type": "stream",
          "text": [
            "Test Loss: 0.0004585301071405411, Test Acc: 0.8428999781608582\n"
          ]
        },
        {
          "name": "stderr",
          "output_type": "stream",
          "text": [
            "Train epoch 1/20: 100%|██████████| 938/938 [00:18<00:00, 50.18it/s]\n"
          ]
        },
        {
          "name": "stdout",
          "output_type": "stream",
          "text": [
            "Train Loss: 0.006271398983026544, Train Acc: 0.8477666974067688\n"
          ]
        },
        {
          "name": "stderr",
          "output_type": "stream",
          "text": [
            "Test epoch 1/20: 100%|██████████| 10/10 [00:01<00:00,  5.94it/s]\n"
          ]
        },
        {
          "name": "stdout",
          "output_type": "stream",
          "text": [
            "Test Loss: 0.00043459791243076327, Test Acc: 0.8472999930381775\n"
          ]
        },
        {
          "name": "stderr",
          "output_type": "stream",
          "text": [
            "Train epoch 2/20: 100%|██████████| 938/938 [00:18<00:00, 50.11it/s]\n"
          ]
        },
        {
          "name": "stdout",
          "output_type": "stream",
          "text": [
            "Train Loss: 0.006542373714099328, Train Acc: 0.8380833268165588\n"
          ]
        },
        {
          "name": "stderr",
          "output_type": "stream",
          "text": [
            "Test epoch 2/20: 100%|██████████| 10/10 [00:01<00:00,  5.89it/s]\n"
          ]
        },
        {
          "name": "stdout",
          "output_type": "stream",
          "text": [
            "Test Loss: 0.0005207761734724044, Test Acc: 0.8220999836921692\n"
          ]
        },
        {
          "name": "stderr",
          "output_type": "stream",
          "text": [
            "Train epoch 3/20: 100%|██████████| 938/938 [00:18<00:00, 51.94it/s]\n"
          ]
        },
        {
          "name": "stdout",
          "output_type": "stream",
          "text": [
            "Train Loss: 0.007224289211506645, Train Acc: 0.8353333473205566\n"
          ]
        },
        {
          "name": "stderr",
          "output_type": "stream",
          "text": [
            "Test epoch 3/20: 100%|██████████| 10/10 [00:01<00:00,  5.67it/s]\n"
          ]
        },
        {
          "name": "stdout",
          "output_type": "stream",
          "text": [
            "Test Loss: 0.0006034641444683075, Test Acc: 0.8297999501228333\n"
          ]
        },
        {
          "name": "stderr",
          "output_type": "stream",
          "text": [
            "Train epoch 4/20: 100%|██████████| 938/938 [00:18<00:00, 50.33it/s]\n"
          ]
        },
        {
          "name": "stdout",
          "output_type": "stream",
          "text": [
            "Train Loss: 0.007940928692494829, Train Acc: 0.8328333497047424\n"
          ]
        },
        {
          "name": "stderr",
          "output_type": "stream",
          "text": [
            "Test epoch 4/20: 100%|██████████| 10/10 [00:01<00:00,  5.98it/s]\n"
          ]
        },
        {
          "name": "stdout",
          "output_type": "stream",
          "text": [
            "Test Loss: 0.0006812879383563996, Test Acc: 0.81659996509552\n"
          ]
        },
        {
          "name": "stderr",
          "output_type": "stream",
          "text": [
            "Train epoch 5/20: 100%|██████████| 938/938 [00:18<00:00, 49.98it/s]\n"
          ]
        },
        {
          "name": "stdout",
          "output_type": "stream",
          "text": [
            "Train Loss: 0.00874483356649677, Train Acc: 0.8420166969299316\n"
          ]
        },
        {
          "name": "stderr",
          "output_type": "stream",
          "text": [
            "Test epoch 5/20: 100%|██████████| 10/10 [00:01<00:00,  5.86it/s]\n"
          ]
        },
        {
          "name": "stdout",
          "output_type": "stream",
          "text": [
            "Test Loss: 0.0007425889432430267, Test Acc: 0.8435999751091003\n"
          ]
        },
        {
          "name": "stderr",
          "output_type": "stream",
          "text": [
            "Train epoch 6/20: 100%|██████████| 938/938 [00:18<00:00, 51.93it/s]\n"
          ]
        },
        {
          "name": "stdout",
          "output_type": "stream",
          "text": [
            "Train Loss: 0.009753611830001075, Train Acc: 0.8435333371162415\n"
          ]
        },
        {
          "name": "stderr",
          "output_type": "stream",
          "text": [
            "Test epoch 6/20: 100%|██████████| 10/10 [00:01<00:00,  5.36it/s]\n"
          ]
        },
        {
          "name": "stdout",
          "output_type": "stream",
          "text": [
            "Test Loss: 0.0007822425603866577, Test Acc: 0.8416000008583069\n"
          ]
        },
        {
          "name": "stderr",
          "output_type": "stream",
          "text": [
            "Train epoch 7/20: 100%|██████████| 938/938 [00:18<00:00, 50.75it/s]\n"
          ]
        },
        {
          "name": "stdout",
          "output_type": "stream",
          "text": [
            "Train Loss: 0.0107813435194393, Train Acc: 0.8458499908447266\n"
          ]
        },
        {
          "name": "stderr",
          "output_type": "stream",
          "text": [
            "Test epoch 7/20: 100%|██████████| 10/10 [00:01<00:00,  5.98it/s]\n"
          ]
        },
        {
          "name": "stdout",
          "output_type": "stream",
          "text": [
            "Test Loss: 0.000942927235364914, Test Acc: 0.820099949836731\n"
          ]
        },
        {
          "name": "stderr",
          "output_type": "stream",
          "text": [
            "Train epoch 8/20: 100%|██████████| 938/938 [00:18<00:00, 50.12it/s]\n"
          ]
        },
        {
          "name": "stdout",
          "output_type": "stream",
          "text": [
            "Train Loss: 0.01227231551433603, Train Acc: 0.8504666686058044\n"
          ]
        },
        {
          "name": "stderr",
          "output_type": "stream",
          "text": [
            "Test epoch 8/20: 100%|██████████| 10/10 [00:01<00:00,  6.00it/s]\n"
          ]
        },
        {
          "name": "stdout",
          "output_type": "stream",
          "text": [
            "Test Loss: 0.0010862877070903778, Test Acc: 0.8073999881744385\n"
          ]
        },
        {
          "name": "stderr",
          "output_type": "stream",
          "text": [
            "Train epoch 9/20: 100%|██████████| 938/938 [00:18<00:00, 51.60it/s]\n"
          ]
        },
        {
          "name": "stdout",
          "output_type": "stream",
          "text": [
            "Train Loss: 0.013055962414170305, Train Acc: 0.854033350944519\n"
          ]
        },
        {
          "name": "stderr",
          "output_type": "stream",
          "text": [
            "Test epoch 9/20: 100%|██████████| 10/10 [00:01<00:00,  5.07it/s]\n"
          ]
        },
        {
          "name": "stdout",
          "output_type": "stream",
          "text": [
            "Test Loss: 0.0011788336157798767, Test Acc: 0.8416999578475952\n"
          ]
        },
        {
          "name": "stderr",
          "output_type": "stream",
          "text": [
            "Train epoch 10/20: 100%|██████████| 938/938 [00:18<00:00, 50.60it/s]\n"
          ]
        },
        {
          "name": "stdout",
          "output_type": "stream",
          "text": [
            "Train Loss: 0.014835804576737185, Train Acc: 0.8565166592597961\n"
          ]
        },
        {
          "name": "stderr",
          "output_type": "stream",
          "text": [
            "Test epoch 10/20: 100%|██████████| 10/10 [00:01<00:00,  5.36it/s]\n"
          ]
        },
        {
          "name": "stdout",
          "output_type": "stream",
          "text": [
            "Test Loss: 0.0012714954137802124, Test Acc: 0.8300999999046326\n"
          ]
        },
        {
          "name": "stderr",
          "output_type": "stream",
          "text": [
            "Train epoch 11/20: 100%|██████████| 938/938 [00:18<00:00, 50.01it/s]\n"
          ]
        },
        {
          "name": "stdout",
          "output_type": "stream",
          "text": [
            "Train Loss: 0.01699825804034869, Train Acc: 0.8547166585922241\n"
          ]
        },
        {
          "name": "stderr",
          "output_type": "stream",
          "text": [
            "Test epoch 11/20: 100%|██████████| 10/10 [00:01<00:00,  5.90it/s]\n"
          ]
        },
        {
          "name": "stdout",
          "output_type": "stream",
          "text": [
            "Test Loss: 0.0015599650502204894, Test Acc: 0.8226000070571899\n"
          ]
        },
        {
          "name": "stderr",
          "output_type": "stream",
          "text": [
            "Train epoch 12/20: 100%|██████████| 938/938 [00:18<00:00, 51.77it/s]\n"
          ]
        },
        {
          "name": "stdout",
          "output_type": "stream",
          "text": [
            "Train Loss: 0.017966102833487093, Train Acc: 0.8570833206176758\n"
          ]
        },
        {
          "name": "stderr",
          "output_type": "stream",
          "text": [
            "Test epoch 12/20: 100%|██████████| 10/10 [00:02<00:00,  4.86it/s]\n"
          ]
        },
        {
          "name": "stdout",
          "output_type": "stream",
          "text": [
            "Test Loss: 0.0020562365889549255, Test Acc: 0.8269000053405762\n"
          ]
        },
        {
          "name": "stderr",
          "output_type": "stream",
          "text": [
            "Train epoch 13/20: 100%|██████████| 938/938 [00:18<00:00, 50.75it/s]\n"
          ]
        },
        {
          "name": "stdout",
          "output_type": "stream",
          "text": [
            "Train Loss: 0.024477806384551028, Train Acc: 0.8552666902542114\n"
          ]
        },
        {
          "name": "stderr",
          "output_type": "stream",
          "text": [
            "Test epoch 13/20: 100%|██████████| 10/10 [00:01<00:00,  5.67it/s]\n"
          ]
        },
        {
          "name": "stdout",
          "output_type": "stream",
          "text": [
            "Test Loss: 0.0027457602739334105, Test Acc: 0.8391000032424927\n"
          ]
        },
        {
          "name": "stderr",
          "output_type": "stream",
          "text": [
            "Train epoch 14/20: 100%|██████████| 938/938 [00:18<00:00, 49.39it/s]\n"
          ]
        },
        {
          "name": "stdout",
          "output_type": "stream",
          "text": [
            "Train Loss: 0.029365170386930307, Train Acc: 0.8601500391960144\n"
          ]
        },
        {
          "name": "stderr",
          "output_type": "stream",
          "text": [
            "Test epoch 14/20: 100%|██████████| 10/10 [00:01<00:00,  5.84it/s]\n"
          ]
        },
        {
          "name": "stdout",
          "output_type": "stream",
          "text": [
            "Test Loss: 0.0036284214735031128, Test Acc: 0.8520999550819397\n"
          ]
        },
        {
          "name": "stderr",
          "output_type": "stream",
          "text": [
            "Train epoch 15/20: 100%|██████████| 938/938 [00:18<00:00, 51.49it/s]\n"
          ]
        },
        {
          "name": "stdout",
          "output_type": "stream",
          "text": [
            "Train Loss: 0.03251109852132698, Train Acc: 0.8604166507720947\n"
          ]
        },
        {
          "name": "stderr",
          "output_type": "stream",
          "text": [
            "Test epoch 15/20: 100%|██████████| 10/10 [00:02<00:00,  4.23it/s]\n"
          ]
        },
        {
          "name": "stdout",
          "output_type": "stream",
          "text": [
            "Test Loss: 0.003459614896774292, Test Acc: 0.8355000019073486\n"
          ]
        },
        {
          "name": "stderr",
          "output_type": "stream",
          "text": [
            "Train epoch 16/20: 100%|██████████| 938/938 [00:18<00:00, 51.41it/s]\n"
          ]
        },
        {
          "name": "stdout",
          "output_type": "stream",
          "text": [
            "Train Loss: 0.04622501011441151, Train Acc: 0.8611166477203369\n"
          ]
        },
        {
          "name": "stderr",
          "output_type": "stream",
          "text": [
            "Test epoch 16/20: 100%|██████████| 10/10 [00:01<00:00,  5.82it/s]\n"
          ]
        },
        {
          "name": "stdout",
          "output_type": "stream",
          "text": [
            "Test Loss: 0.0053990968704223635, Test Acc: 0.840999960899353\n"
          ]
        },
        {
          "name": "stderr",
          "output_type": "stream",
          "text": [
            "Train epoch 17/20: 100%|██████████| 938/938 [00:19<00:00, 48.97it/s]\n"
          ]
        },
        {
          "name": "stdout",
          "output_type": "stream",
          "text": [
            "Train Loss: 0.05238252695885797, Train Acc: 0.8651666641235352\n"
          ]
        },
        {
          "name": "stderr",
          "output_type": "stream",
          "text": [
            "Test epoch 17/20: 100%|██████████| 10/10 [00:01<00:00,  5.95it/s]\n"
          ]
        },
        {
          "name": "stdout",
          "output_type": "stream",
          "text": [
            "Test Loss: 0.0062779998779296875, Test Acc: 0.8373000025749207\n"
          ]
        },
        {
          "name": "stderr",
          "output_type": "stream",
          "text": [
            "Train epoch 18/20: 100%|██████████| 938/938 [00:18<00:00, 49.97it/s]\n"
          ]
        },
        {
          "name": "stdout",
          "output_type": "stream",
          "text": [
            "Train Loss: 0.06258927761117618, Train Acc: 0.8661333322525024\n"
          ]
        },
        {
          "name": "stderr",
          "output_type": "stream",
          "text": [
            "Test epoch 18/20: 100%|██████████| 10/10 [00:01<00:00,  5.04it/s]\n"
          ]
        },
        {
          "name": "stdout",
          "output_type": "stream",
          "text": [
            "Test Loss: 0.006115335321426392, Test Acc: 0.8411999940872192\n"
          ]
        },
        {
          "name": "stderr",
          "output_type": "stream",
          "text": [
            "Train epoch 19/20: 100%|██████████| 938/938 [00:18<00:00, 51.63it/s]\n"
          ]
        },
        {
          "name": "stdout",
          "output_type": "stream",
          "text": [
            "Train Loss: 0.06858760107395549, Train Acc: 0.8654500246047974\n"
          ]
        },
        {
          "name": "stderr",
          "output_type": "stream",
          "text": [
            "Test epoch 19/20: 100%|██████████| 10/10 [00:01<00:00,  5.84it/s]"
          ]
        },
        {
          "name": "stdout",
          "output_type": "stream",
          "text": [
            "Test Loss: 0.007676176929473877, Test Acc: 0.8411999940872192\n"
          ]
        },
        {
          "name": "stderr",
          "output_type": "stream",
          "text": [
            "\n"
          ]
        }
      ],
      "source": [
        "model_adc4 = MLPADC(bx=4, bw=4, ba=8, k=4).to(device)\n",
        "optimizer = torch.optim.Adam(model_adc4.parameters(), lr=0.001)\n",
        "train_losses_adc4, train_accuracies_adc4, test_losses_adc4, test_accuracies_adc4 = train(model_adc4, optimizer, train_loader, test_loader, num_epochs=20)"
      ]
    },
    {
      "cell_type": "code",
      "execution_count": null,
      "metadata": {
        "id": "B4Y0MBruzJXp"
      },
      "outputs": [],
      "source": [
        "torch.save(model_adc4.state_dict(), \"adc4.pt\")"
      ]
    },
    {
      "cell_type": "code",
      "execution_count": null,
      "metadata": {
        "id": "Vxi8lHryxvZy"
      },
      "outputs": [],
      "source": [
        "def get_metrics(target, donor, train_loader, test_loader):\n",
        "    target.load_state_dict(donor.state_dict(), strict=False)\n",
        "    _, train_acc = evaluate(target, train_loader)\n",
        "    _, test_acc = evaluate(target, test_loader)\n",
        "    return train_acc, test_acc"
      ]
    },
    {
      "cell_type": "markdown",
      "metadata": {
        "id": "jByYZXR7EI0W"
      },
      "source": [
        "### Running the trained models with their own weights"
      ]
    },
    {
      "cell_type": "code",
      "execution_count": null,
      "metadata": {
        "colab": {
          "base_uri": "https://localhost:8080/"
        },
        "id": "ULtw_-o69q0m",
        "outputId": "ef5ade2d-0709-4da1-bc03-948d96c9c6ea"
      },
      "outputs": [
        {
          "name": "stderr",
          "output_type": "stream",
          "text": [
            "Eval: 100%|██████████| 10/10 [00:01<00:00,  5.81it/s]\n"
          ]
        },
        {
          "data": {
            "text/plain": [
              "(0.0004729176491498947, 0.8911)"
            ]
          },
          "execution_count": 49,
          "metadata": {},
          "output_type": "execute_result"
        }
      ],
      "source": [
        "evaluate(model, test_loader)"
      ]
    },
    {
      "cell_type": "code",
      "execution_count": null,
      "metadata": {
        "colab": {
          "base_uri": "https://localhost:8080/"
        },
        "id": "tKU_O3xW9owm",
        "outputId": "75c97eda-a9ba-4a7e-8c41-07071b8bba03"
      },
      "outputs": [
        {
          "name": "stderr",
          "output_type": "stream",
          "text": [
            "Eval: 100%|██████████| 10/10 [00:02<00:00,  4.37it/s]\n"
          ]
        },
        {
          "data": {
            "text/plain": [
              "(0.007676176929473877, 0.8412)"
            ]
          },
          "execution_count": 25,
          "metadata": {},
          "output_type": "execute_result"
        }
      ],
      "source": [
        "evaluate(model_adc4, test_loader)"
      ]
    },
    {
      "cell_type": "code",
      "execution_count": null,
      "metadata": {
        "colab": {
          "base_uri": "https://localhost:8080/"
        },
        "id": "2iSRKIbKyox-",
        "outputId": "bdec2ecc-c847-4836-c020-1bac0f1db9a0"
      },
      "outputs": [
        {
          "name": "stderr",
          "output_type": "stream",
          "text": [
            "Eval: 100%|██████████| 10/10 [00:02<00:00,  4.60it/s]\n"
          ]
        },
        {
          "data": {
            "text/plain": [
              "(0.006594453859329223, 0.8494)"
            ]
          },
          "execution_count": 24,
          "metadata": {},
          "output_type": "execute_result"
        }
      ],
      "source": [
        "evaluate(model_adc8, test_loader)"
      ]
    },
    {
      "cell_type": "code",
      "execution_count": null,
      "metadata": {
        "colab": {
          "base_uri": "https://localhost:8080/",
          "height": 468
        },
        "id": "FKsQYmwuuA0W",
        "outputId": "458c4e0e-de6b-43d3-8e5f-c5fe582157b9"
      },
      "outputs": [
        {
          "data": {
            "image/png": "[encoded data removed]",
            "text/plain": [
              "<Figure size 1400x500 with 2 Axes>"
            ]
          },
          "metadata": {},
          "output_type": "display_data"
        }
      ],
      "source": [
        "from matplotlib import pyplot as plt\n",
        "\n",
        "fig, ax = plt.subplots(1, 2, figsize=(14, 5))\n",
        "\n",
        "ax[0].plot(train_accuracies, label='MLP')\n",
        "ax[0].plot(train_accuracies_adc8, label='MLP_ADC (8, 8, 8)')\n",
        "ax[0].plot(train_accuracies_adc4, label='MLP ADC (4, 4, 8)')\n",
        "ax[0].set_title(\"Train accuracies\")\n",
        "ax[0].legend()\n",
        "\n",
        "ax[1].plot(test_accuracies, label='MLP')\n",
        "ax[1].plot(test_accuracies_adc8, label='MLP_ADC (8, 8, 8)')\n",
        "ax[1].plot(test_accuracies_adc4, label='MLP ADC (4, 4, 8)')\n",
        "ax[1].set_title(\"Test accuracies\")\n",
        "ax[1].legend()\n",
        "plt.show()"
      ]
    },
    {
      "cell_type": "markdown",
      "metadata": {
        "id": "Q9-2oYHSD-1e"
      },
      "source": [
        "### Load weights from usual model to quantized models"
      ]
    },
    {
      "cell_type": "code",
      "execution_count": null,
      "metadata": {
        "colab": {
          "base_uri": "https://localhost:8080/"
        },
        "id": "QlEW2nMaCedS",
        "outputId": "bedcf023-9135-4988-8721-693d613bfc49"
      },
      "outputs": [
        {
          "name": "stderr",
          "output_type": "stream",
          "text": [
            "Eval: 100%|██████████| 938/938 [00:15<00:00, 60.15it/s]\n",
            "Eval: 100%|██████████| 10/10 [00:01<00:00,  5.85it/s]\n"
          ]
        },
        {
          "data": {
            "text/plain": [
              "(0.002119978976249695, 0.1279)"
            ]
          },
          "execution_count": 66,
          "metadata": {},
          "output_type": "execute_result"
        }
      ],
      "source": [
        "model_adc4_copy = MLPADC(bx=4, bw=4, ba=8, k=4).to(device)\n",
        "model_adc4_copy.load_state_dict(torch.load(\"model_gth.pt\"), strict=False)\n",
        "calibrate(model_adc4_copy, train_loader)\n",
        "evaluate(model_adc4_copy, test_loader)"
      ]
    },
    {
      "cell_type": "code",
      "execution_count": null,
      "metadata": {
        "colab": {
          "base_uri": "https://localhost:8080/"
        },
        "id": "Ka3pSE5eCUKw",
        "outputId": "3e51270a-002f-45fc-be2c-d9fe9c02cdfa"
      },
      "outputs": [
        {
          "name": "stderr",
          "output_type": "stream",
          "text": [
            "Eval: 100%|██████████| 938/938 [00:15<00:00, 62.12it/s]\n",
            "Eval: 100%|██████████| 10/10 [00:01<00:00,  5.99it/s]\n"
          ]
        },
        {
          "data": {
            "text/plain": [
              "(0.002236054754257202, 0.3552)"
            ]
          },
          "execution_count": 65,
          "metadata": {},
          "output_type": "execute_result"
        }
      ],
      "source": [
        "model_adc8_copy = MLPADC(bx=8, bw=8, ba=8, k=4).to(device)\n",
        "model_adc8_copy.load_state_dict(torch.load(\"model_gth.pt\"), strict=False)\n",
        "calibrate(model_adc8_copy, train_loader)\n",
        "evaluate(model_adc8_copy, test_loader)"
      ]
    },
    {
      "cell_type": "markdown",
      "metadata": {
        "id": "pbBoBCuxET2p"
      },
      "source": [
        "### Copy weights from quantized model to usual model"
      ]
    },
    {
      "cell_type": "code",
      "execution_count": null,
      "metadata": {
        "colab": {
          "base_uri": "https://localhost:8080/"
        },
        "id": "oHZHrqUx1Ejk",
        "outputId": "9cf17c21-e251-42e4-b4bb-190741abc17a"
      },
      "outputs": [
        {
          "name": "stderr",
          "output_type": "stream",
          "text": [
            "Eval: 100%|██████████| 938/938 [00:11<00:00, 80.78it/s]\n",
            "Eval: 100%|██████████| 10/10 [00:01<00:00,  5.81it/s]\n"
          ]
        },
        {
          "name": "stdout",
          "output_type": "stream",
          "text": [
            "Model with weights from ADC8 (Train/Test): (0.8688833333333333, 0.8408)\n"
          ]
        },
        {
          "name": "stderr",
          "output_type": "stream",
          "text": [
            "Eval: 100%|██████████| 938/938 [00:11<00:00, 81.79it/s]\n",
            "Eval: 100%|██████████| 10/10 [00:01<00:00,  5.45it/s]"
          ]
        },
        {
          "name": "stdout",
          "output_type": "stream",
          "text": [
            "Model with weights from ADC4 (Train/Test): (0.8779333333333333, 0.8527)\n"
          ]
        },
        {
          "name": "stderr",
          "output_type": "stream",
          "text": [
            "\n"
          ]
        }
      ],
      "source": [
        "model_copy8 = MLP().to(device)\n",
        "\n",
        "print(\"Model with weights from ADC8 (Train/Test):\",  get_metrics(model_copy8, model_adc8, train_loader, test_loader))\n",
        "\n",
        "model_copy4 = MLP().to(device)\n",
        "\n",
        "print(\"Model with weights from ADC4 (Train/Test):\",  get_metrics(model_copy4, model_adc4, train_loader, test_loader))"
      ]
    },
    {
      "cell_type": "code",
      "execution_count": null,
      "metadata": {
        "id": "HjFLbFRlsrPB"
      },
      "outputs": [],
      "source": []
    },
    {
      "cell_type": "code",
      "execution_count": null,
      "metadata": {
        "id": "9tnla0JkhTIb"
      },
      "outputs": [],
      "source": []
    },
    {
      "cell_type": "code",
      "execution_count": null,
      "metadata": {
        "id": "-c_n34RUhTLh"
      },
      "outputs": [],
      "source": []
    },
    {
      "cell_type": "code",
      "execution_count": null,
      "metadata": {
        "id": "Rg_gLFm0hTNr"
      },
      "outputs": [],
      "source": [
        "f_w = open(\"logs_adc_train_fm.txt\", \"w\")\n",
        "f_w.write(\"Train accuracies (Normal, ADC8, ADC4)\\n\")\n",
        "for arr in [train_accuracies, train_accuracies_adc8, train_accuracies_adc4]:\n",
        "    f_w.write(' '.join(map(str, arr)) + '\\n\\n')\n",
        "f_w.write(\"Test accuracies (Normal, ADC8, ADC4)\\n\")\n",
        "for arr in [test_accuracies, test_accuracies_adc8, test_accuracies_adc4]:\n",
        "    f_w.write(' '.join(map(str, arr)) + '\\n\\n')\n",
        "f_w.close()"
      ]
    },
    {
      "cell_type": "code",
      "execution_count": null,
      "metadata": {
        "id": "Bh1c7qy5hTQG"
      },
      "outputs": [],
      "source": []
    },
    {
      "cell_type": "code",
      "execution_count": null,
      "metadata": {
        "id": "OqaSwUH7hTTE"
      },
      "outputs": [],
      "source": [
        "xq = quant(x)\n",
        "wq = quant(w)\n",
        "yq = adc(xq * wq)\n",
        "y = dequant(y) # * sx * sw\n",
        "\n",
        "\n",
        "x2 = dequant(quant(x)) # *sx\n",
        "w2 = dequant(quant(w)) # *sw\n",
        "\n",
        "y = x2 * w2"
      ]
    },
    {
      "cell_type": "code",
      "execution_count": null,
      "metadata": {
        "id": "nmjWCQtRhTVv"
      },
      "outputs": [],
      "source": []
    },
    {
      "cell_type": "code",
      "execution_count": null,
      "metadata": {
        "id": "IBt409qoUukt"
      },
      "outputs": [],
      "source": [
        "layer1 = LinearADC(in_features=10, out_features=20, bx=4, bw=4, ba=8, k=4, bias=True)\n",
        "layer2 = nn.Linear(in_features=10, out_features=20, bias=True)\n",
        "\n",
        "layer2.weight.data = layer1.weight.data\n",
        "layer2.bias.data = layer1.bias.data\n",
        "#layer2.bias.data = layer1.bias.data\n",
        "\n",
        "layer3 = nn.Linear(in_features=10, out_features=20, bias=True)"
      ]
    },
    {
      "cell_type": "code",
      "execution_count": null,
      "metadata": {
        "colab": {
          "base_uri": "https://localhost:8080/"
        },
        "id": "v1shyk_7VXXV",
        "outputId": "3bdd42dd-7c56-4ab4-f45e-f46a0eb468d2"
      },
      "outputs": [
        {
          "name": "stdout",
          "output_type": "stream",
          "text": [
            "tensor(20.3340, grad_fn=<MaxBackward1>)\n",
            "tensor(93.3881, grad_fn=<MaxBackward1>)\n"
          ]
        }
      ],
      "source": [
        "x0 = torch.rand((25, 10)) * 50 + 25\n",
        "\n",
        "x1 = layer1(x0)\n",
        "x2 = layer2(x0)\n",
        "x3 = layer3(x0)\n",
        "\n",
        "print((x1 - x2).abs().max())\n",
        "print((x1 - x3).abs().max())"
      ]
    },
    {
      "cell_type": "code",
      "execution_count": null,
      "metadata": {
        "id": "FQJdJJceWzON"
      },
      "outputs": [],
      "source": [
        "layer1 = LinearADC(in_features=10, out_features=10, bx=4, bw=4, ba=8, k=4, bias=False)\n",
        "\n",
        "layer1.weight.data = torch.eye(10)"
      ]
    },
    {
      "cell_type": "code",
      "execution_count": null,
      "metadata": {
        "colab": {
          "base_uri": "https://localhost:8080/"
        },
        "id": "GYhmOXe7aT5s",
        "outputId": "b79518b8-a8e1-49c1-aa3f-6787d9a12ade"
      },
      "outputs": [
        {
          "data": {
            "text/plain": [
              "tensor([[26.7304, 31.1513, 73.0270, 73.2582, 25.4829, 57.6110, 71.7957, 56.5365,\n",
              "         48.0360, 61.3831],\n",
              "        [71.1674, 62.0212, 65.4115, 67.3896, 59.8313, 39.2201, 26.5138, 58.9137,\n",
              "         27.4972, 37.4439],\n",
              "        [64.1427, 50.1639, 67.6197, 37.8770, 69.8616, 63.2886, 62.4166, 49.6351,\n",
              "         53.1945, 61.1669],\n",
              "        [67.9047, 42.8480, 71.8593, 63.6100, 69.7647, 40.8776, 56.3050, 67.1926,\n",
              "         68.6809, 32.7199],\n",
              "        [70.0239, 36.6163, 49.4229, 66.0521, 41.1920, 34.8372, 27.0024, 47.9584,\n",
              "         50.1099, 70.9660],\n",
              "        [32.4002, 44.0996, 62.7994, 41.6385, 50.3549, 74.5170, 54.6598, 67.6990,\n",
              "         58.5949, 55.0868],\n",
              "        [60.5230, 70.6212, 46.8392, 59.7478, 71.5800, 70.5334, 71.2752, 63.2632,\n",
              "         54.3709, 35.4932],\n",
              "        [39.8587, 67.6553, 61.6394, 71.9415, 57.2732, 62.6702, 46.9879, 62.8128,\n",
              "         71.4001, 74.1147],\n",
              "        [72.2134, 47.5278, 71.6986, 55.3964, 29.9752, 54.4356, 65.0204, 27.3818,\n",
              "         34.1485, 71.3202],\n",
              "        [34.2029, 33.7098, 50.0704, 32.9489, 26.2752, 28.0175, 31.6714, 59.7329,\n",
              "         49.7289, 68.9830],\n",
              "        [42.4834, 50.2676, 27.4585, 63.7391, 45.8270, 55.1470, 40.1101, 73.0752,\n",
              "         72.9711, 37.4428],\n",
              "        [26.4599, 61.1591, 59.0830, 70.1370, 26.4475, 72.8945, 55.2870, 43.5340,\n",
              "         49.7215, 42.7601],\n",
              "        [61.1923, 39.5539, 35.6701, 38.7389, 48.8820, 67.0996, 60.9795, 35.0324,\n",
              "         26.7432, 61.3732],\n",
              "        [28.9004, 37.2215, 70.5001, 44.2841, 66.5933, 51.7046, 36.3886, 41.5408,\n",
              "         61.3999, 54.2746],\n",
              "        [31.0220, 25.7743, 29.7623, 42.4684, 70.2704, 63.2956, 28.5267, 65.8031,\n",
              "         54.5547, 73.0876],\n",
              "        [40.1925, 30.3223, 32.0185, 69.2003, 31.9286, 30.6994, 73.1986, 29.0978,\n",
              "         68.0568, 38.3589],\n",
              "        [46.6877, 59.3122, 52.5025, 41.7411, 52.3905, 28.1858, 34.0851, 40.1381,\n",
              "         48.4342, 56.1338],\n",
              "        [62.3185, 34.2806, 54.8261, 45.1450, 35.9155, 29.4900, 74.3569, 31.1452,\n",
              "         54.0035, 62.0290],\n",
              "        [39.2377, 52.7094, 42.6126, 28.6822, 40.5146, 49.1287, 25.6576, 64.0675,\n",
              "         38.3797, 62.7540],\n",
              "        [61.7549, 29.5147, 40.5611, 25.6070, 44.0598, 56.5672, 56.5299, 66.9406,\n",
              "         32.1285, 57.0703],\n",
              "        [74.0312, 37.2865, 56.5391, 57.3358, 38.4102, 68.4431, 60.9772, 59.8263,\n",
              "         66.3067, 25.9001],\n",
              "        [43.1196, 45.3980, 46.1682, 38.2893, 25.5771, 39.2912, 54.1168, 65.8928,\n",
              "         50.6003, 53.8522],\n",
              "        [46.9585, 71.8903, 28.2974, 39.0012, 69.7344, 57.7533, 63.5194, 72.4282,\n",
              "         62.9630, 41.3788],\n",
              "        [57.9457, 34.4906, 39.1314, 60.3940, 69.5073, 37.5643, 36.5148, 70.2951,\n",
              "         42.3962, 37.0029],\n",
              "        [48.3101, 35.7245, 43.9410, 48.2016, 51.2154, 34.1239, 53.1823, 50.4126,\n",
              "         57.0766, 50.3396]])"
            ]
          },
          "execution_count": 121,
          "metadata": {},
          "output_type": "execute_result"
        }
      ],
      "source": [
        "x0"
      ]
    },
    {
      "cell_type": "code",
      "execution_count": null,
      "metadata": {
        "colab": {
          "base_uri": "https://localhost:8080/"
        },
        "id": "It6UuCm1aVoq",
        "outputId": "92ce1ca9-c387-4ee0-c22d-df83d2a0e168"
      },
      "outputs": [
        {
          "data": {
            "text/plain": [
              "tensor([[ -6.2748,  -6.3123, -14.5822, -14.8135,  -5.0273, -10.8552, -13.3510,\n",
              "          -9.7807, -10.0470, -11.7051],\n",
              "        [-12.7227, -12.3431, -11.3501, -13.3282, -10.1533,  -9.9978,  -6.0581,\n",
              "         -12.1579,  -7.0416,  -8.2215],\n",
              "        [-14.4647,  -7.7914, -13.5583,  -8.6546, -11.4169, -13.6106, -12.7386,\n",
              "         -11.6460, -10.8220, -11.4888],\n",
              "        [-13.8433,  -9.2423, -13.4146, -13.9320, -11.3200,  -7.2718,  -9.5492,\n",
              "         -13.1312, -14.6195,  -7.8809],\n",
              "        [-11.5792,  -7.3940, -11.4339, -11.9907,  -7.5863,  -5.6149,  -6.5468,\n",
              "          -9.9693,  -7.7375, -12.5213],\n",
              "        [ -7.5612, -10.4938, -13.1214,  -8.0328,  -7.9825, -11.6889,  -7.9040,\n",
              "         -13.6376, -11.8391,  -8.3310],\n",
              "        [-10.8450, -12.1764,  -8.8501, -10.0698, -13.1353, -12.0886, -12.8305,\n",
              "         -13.5851, -11.9985,  -6.2708],\n",
              "        [ -6.2530, -13.5939, -11.9614, -13.4968, -10.5174, -12.9921,  -8.9988,\n",
              "         -13.1348, -12.9554, -15.6699],\n",
              "        [-13.7686,  -9.5387, -13.2539,  -8.6406,  -5.1362, -12.0632, -10.9590,\n",
              "          -6.9261,  -9.3095, -12.8755],\n",
              "        [ -9.3639,  -8.8708,  -7.6980,  -8.1099,  -5.8196,  -7.5619,  -6.8324,\n",
              "         -10.0549,  -7.3565, -14.9216],\n",
              "        [ -8.8777,  -7.8952,  -7.0029, -14.0611,  -7.8379,  -8.3912,  -6.5043,\n",
              "         -14.6305, -14.5264,  -8.2204],\n",
              "        [ -6.0042, -11.4811, -12.3272, -11.6922,  -5.9919, -14.4498,  -8.5312,\n",
              "          -9.9283,  -7.3491,  -9.1543],\n",
              "        [-11.5142, -10.3315,  -6.4477,  -9.5165, -10.8929, -13.0382, -11.3015,\n",
              "          -5.8100,  -6.2875, -11.6952],\n",
              "        [ -8.4447,  -7.9992, -12.0554, -10.6784, -12.5319,  -9.3322,  -7.1662,\n",
              "          -7.9351, -11.7218, -11.9021],\n",
              "        [ -6.1830,  -5.3187,  -9.3066,  -8.8627, -11.8257, -13.6176,  -8.0710,\n",
              "         -11.7417, -12.1823, -14.6429],\n",
              "        [ -6.5868,  -5.4833,  -7.1795, -15.1389,  -7.0896,  -5.8604, -14.7538,\n",
              "          -8.6421, -13.9954,  -9.1365],\n",
              "        [ -8.6986, -12.5564, -10.1301,  -8.1354, -10.0180,  -7.7302,  -9.2461,\n",
              "          -6.5323, -10.4451,  -9.3780],\n",
              "        [-12.6405,  -9.4416,  -8.0703,  -7.1559,  -6.6931,  -9.0344, -15.9122,\n",
              "          -6.3062, -11.6310, -12.3510],\n",
              "        [-10.0153, -10.3370,  -9.0069,  -8.2265,  -6.9089, -11.1397,  -5.2019,\n",
              "         -14.3895,  -9.1573, -13.0760],\n",
              "        [-12.0769,  -9.0590,  -6.9554,  -5.1513, -10.4541,  -9.8114,  -9.7741,\n",
              "         -12.8793,  -7.2895, -10.3145],\n",
              "        [-15.5865,  -8.0641,  -9.7833, -10.5800,  -9.1878, -14.3818, -11.2991,\n",
              "         -10.1483, -12.2453,  -5.4444],\n",
              "        [ -9.5139,  -7.4089,  -8.1792,  -9.0669,  -5.1215, -10.0688, -11.7444,\n",
              "         -11.8314,  -8.2279, -11.4798],\n",
              "        [ -8.9694, -13.4456,  -7.8417,  -9.7788, -11.2896, -10.9975, -13.8413,\n",
              "         -13.9835, -13.2850,  -7.7731],\n",
              "        [-11.1899,  -9.6516,  -9.9090, -10.7160, -15.4459,  -8.3419,  -7.2924,\n",
              "         -11.8503,  -8.7905,  -7.7805],\n",
              "        [-10.3210,  -6.5021, -10.3353, -10.2125,  -8.8430,  -9.2849, -10.8099,\n",
              "          -8.0401, -10.3208,  -7.9672]], grad_fn=<SubBackward0>)"
            ]
          },
          "execution_count": 123,
          "metadata": {},
          "output_type": "execute_result"
        }
      ],
      "source": [
        "layer1(x0) - x0"
      ]
    },
    {
      "cell_type": "code",
      "execution_count": null,
      "metadata": {
        "id": "RiprK6_gaY5X"
      },
      "outputs": [],
      "source": []
    }
  ],
  "metadata": {
    "accelerator": "GPU",
    "colab": {
      "gpuType": "T4",
      "provenance": []
    },
    "kernelspec": {
      "display_name": "Python 3",
      "name": "python3"
    },
    "language_info": {
      "codemirror_mode": {
        "name": "ipython",
        "version": 3
      },
      "file_extension": ".py",
      "mimetype": "text/x-python",
      "name": "python",
      "nbconvert_exporter": "python",
      "pygments_lexer": "ipython3",
      "version": "3.10.13"
    }
  },
  "nbformat": 4,
  "nbformat_minor": 0
}
